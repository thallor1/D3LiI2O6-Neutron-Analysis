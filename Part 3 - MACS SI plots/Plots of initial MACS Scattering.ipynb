{
 "cells": [
  {
   "cell_type": "markdown",
   "id": "66d04116",
   "metadata": {},
   "source": [
    "## This notebook is for the plotting of MACS D$_3$LiIr$_2$O$_6$ data before removal of phonon and elastic backgrounds. \n",
    "\n",
    "Annular absorption and normalization are handeled previously"
   ]
  },
  {
   "cell_type": "code",
   "execution_count": 2,
   "id": "cf67ce3f",
   "metadata": {},
   "outputs": [
    {
     "name": "stderr",
     "output_type": "stream",
     "text": [
      "/home/tom/anaconda3/envs/mantid/lib/python3.6/site-packages/h5py/__init__.py:40: UserWarning: h5py is running against HDF5 1.10.0 when it was built against 1.10.6, this may cause problems\n",
      "  '{0}.{1}.{2}'.format(*version.hdf5_built_version_tuple)\n"
     ]
    },
    {
     "name": "stdout",
     "output_type": "stream",
     "text": [
      "../MDHisto_files/\n"
     ]
    }
   ],
   "source": [
    "import sys\n",
    "import os \n",
    "sys.path.append(\"../python scripts/\")\n",
    "\n",
    "import numpy as np \n",
    "import matplotlib.pyplot as plt\n",
    "from mantid.simpleapi import *\n",
    "import matplotlib\n",
    "import matplotlib.patheffects as PathEffects\n",
    "import MDUtils as mdu\n",
    "from mdtoiexy import make_MD_from_iexy\n",
    "\n",
    "plt.rcParams['xtick.direction']='in'\n",
    "plt.rcParams['ytick.direction']='in'\n",
    "plt.rcParams['xtick.minor.visible']=True\n",
    "plt.rcParams['ytick.minor.visible']=True\n",
    "plt.rcParams['xtick.top']=True\n",
    "plt.rcParams['ytick.right']=True\n",
    "plt.rcParams['font.size']=10\n",
    "plt.rcParams['xtick.labelsize']=10\n",
    "plt.rcParams['ytick.labelsize']=10\n",
    "plt.rcParams['text.usetex']=False\n",
    "plt.rcParams['font.family']='serif'\n",
    "\n",
    "\n",
    "def mask_zeros_md(md):\n",
    "    I = np.copy(md.getSignalArray())\n",
    "    I[I==0]=np.nan\n",
    "    md.setSignalArray(I)\n",
    "\n",
    "cwd = os.getcwd()\n",
    "#Import files\n",
    "macs_2K_3p7_fname = cwd+'/macs_iexy/2K_EmptySubtracted_Ei3p7_MACS.iexy'\n",
    "macs_2K_5_fname = cwd+'/macs_iexy/2K_EmptySubtracted_MACS.iexy'\n",
    "macs_55K_3p7_fname = cwd+'/macs_iexy/55K_EmptySubtracted_Ei3p7_MACS.iexy'\n",
    "macs_55K_5_fname = cwd+'/macs_iexy/55K_EmptySubtracted_MACS.iexy'\n",
    "\n",
    "#Below factors are in a different notebook, originate from elastic bragg peaks\n",
    "scale_factor_5p0=1.5e-2\n",
    "scale_factor_3p7=8.0e-2\n",
    "\n",
    "#scale_factor_5p0=1.0\n",
    "#scale_factor_3p7=1.0\n",
    "\n",
    "\n",
    "#Import the iexy files as MDHistoworkspaces\n",
    "macs_2K_3p7 =  make_MD_from_iexy(macs_2K_3p7_fname,Ei=3.7).clone()\n",
    "macs_2K_5 =  make_MD_from_iexy(macs_2K_5_fname,Ei=13.7).clone()\n",
    "\n",
    "macs_55K_3p7 = make_MD_from_iexy(macs_55K_3p7_fname,Ei=3.7).clone()\n",
    "macs_55K_5 = make_MD_from_iexy(macs_55K_5_fname,Ei=13.7).clone()\n",
    "\n",
    "macs_55K_5 *=scale_factor_5p0\n",
    "macs_2K_5 *=scale_factor_5p0\n",
    "macs_55K_3p7*=scale_factor_3p7 \n",
    "macs_2K_3p7 *=scale_factor_3p7 \n",
    "\n",
    "fnames = ['macs_5p0_55K.nxs','macs_5p0_2K.nxs','macs_3p7_55K.nxs','macs_3p7_2K.nxs']\n",
    "\n",
    "savedir = '../MDHisto_files/'\n",
    "print(savedir)\n",
    "for i,md in enumerate([macs_55K_5,macs_2K_5,macs_55K_3p7,macs_2K_3p7]):\n",
    "    mask_zeros_md(md)\n",
    "    #Save each in an nxs file for later notebooks.\n",
    "    SaveMD(md,savedir+fnames[i])"
   ]
  },
  {
   "cell_type": "markdown",
   "id": "2c31125e",
   "metadata": {},
   "source": [
    "## First make plots showing each measurement. "
   ]
  },
  {
   "cell_type": "code",
   "execution_count": 6,
   "id": "a06145d7",
   "metadata": {},
   "outputs": [],
   "source": [
    "fig,ax = plt.subplots(2,2,figsize=(3.54,4),subplot_kw={'projection':'mantid'})\n",
    "\n",
    "vmax=1\n",
    "\n",
    "ax[0,0].pcolormesh(macs_2K_3p7,vmin=0,vmax=vmax,cmap='Spectral_r',rasterized=True)\n",
    "ax[0,1].pcolormesh(macs_55K_3p7,vmin=0,vmax=vmax,cmap='Spectral_r',rasterized=True)\n",
    "ax[1,0].pcolormesh(macs_2K_5,vmin=0,vmax=vmax,cmap='Spectral_r',rasterized=True)\n",
    "mesh = ax[1,1].pcolormesh(macs_55K_5,vmin=0,vmax=vmax,cmap='Spectral_r',rasterized=True)\n",
    "\n",
    "ax[0,1].set_ylabel('')\n",
    "ax[1,1].set_ylabel('')\n",
    "ax[0,0].set_ylabel('$\\hbar\\omega$ (meV)')\n",
    "ax[1,0].set_ylabel('$\\hbar\\omega$ (meV)')\n",
    "ax[1,0].set_xlabel('$Q$ ($\\AA^{-1}$)')\n",
    "ax[1,1].set_xlabel('$Q$ ($\\AA^{-1}$)')\n",
    "ax[0,0].set_xlabel('')\n",
    "ax[0,1].set_xlabel('')\n",
    "ax[0,1].set_yticklabels([])\n",
    "ax[1,1].set_yticklabels([])\n",
    "\n",
    "ax[0,0].set_xlim(0,2.5)\n",
    "ax[1,0].set_xlim(0,2.5)\n",
    "ax[0,1].set_xlim(0,2.5)\n",
    "ax[1,1].set_xlim(0,2.5)\n",
    "\n",
    "txta = ax[0,0].text(0.1,0.9,'(a)',transform=ax[0,0].transAxes,horizontalalignment='left',\\\n",
    "            verticalalignment='top')\n",
    "txtb = ax[0,1].text(0.1,0.9,'(b)',transform=ax[0,1].transAxes,horizontalalignment='left',\\\n",
    "            verticalalignment='top')\n",
    "txtc = ax[1,0].text(0.1,0.9,'(c)',transform=ax[1,0].transAxes,horizontalalignment='left',\\\n",
    "            verticalalignment='top')\n",
    "txtd = ax[1,1].text(0.1,0.9,'(d)',transform=ax[1,1].transAxes,horizontalalignment='left',\\\n",
    "            verticalalignment='top')\n",
    "for txt in [txta,txtb,txtc,txtd]:\n",
    "    txt.set_path_effects([PathEffects.withStroke(linewidth=2,foreground='w')])\n",
    "#Add a colorbar\n",
    "l,b,w,h=ax[0,0].get_position().bounds\n",
    "cax = fig.add_axes([l+0.0125,b+0.5,0.75,0.02])\n",
    "labelstr='I($Q,\\omega$) (b/eV/sr/mol$\\cdot$Ir)'\n",
    "cbar = plt.colorbar(mesh,orientation='horizontal',cax=cax,label=labelstr)\n",
    "cax.yaxis.set_major_formatter(matplotlib.ticker.FormatStrFormatter(\"%.2f\"))\n",
    "fig.savefig('HLIO_macs_I_summary.pdf',bbox_inches='tight',dpi=300)\n",
    "\n"
   ]
  },
  {
   "cell_type": "markdown",
   "id": "08e88a97",
   "metadata": {},
   "source": []
  },
  {
   "cell_type": "code",
   "execution_count": 7,
   "id": "fdeaff24",
   "metadata": {},
   "outputs": [
    {
     "name": "stdout",
     "output_type": "stream",
     "text": [
      "[ 0.03365669  0.55426338  1.07487008  1.59547678  2.11608347  2.63669017\n",
      "  3.15729687  3.67790356  4.19851026  4.71911696  5.23972365  5.76033035\n",
      "  6.28093705  6.80154374  7.32215044  7.84275714  8.36336383  8.88397053\n",
      "  9.40457723  9.92518392 10.44579062 10.96639732]\n"
     ]
    }
   ],
   "source": [
    "dims = macs_2K_5.getNonIntegratedDimensions()\n",
    "e = mdu.dim2array(dims[1])\n",
    "print(e)"
   ]
  },
  {
   "cell_type": "code",
   "execution_count": 39,
   "id": "0f0f5b60",
   "metadata": {},
   "outputs": [
    {
     "name": "stderr",
     "output_type": "stream",
     "text": [
      "Matplotlib is currently using module://ipykernel.pylab.backend_inline, which is a non-GUI backend, so cannot show the figure.\n"
     ]
    },
    {
     "data": {
      "image/png": "[encoded data removed]",
      "text/plain": [
       "<Figure size 509.76x108 with 5 Axes>"
      ]
     },
     "metadata": {
      "needs_background": "light"
     },
     "output_type": "display_data"
    }
   ],
   "source": [
    "%matplotlib inline\n",
    "#Version for dissertation\n",
    "fig,ax = plt.subplots(1,4,figsize=(3.54*2,1.5),subplot_kw={'projection':'mantid'})\n",
    "fig.subplots_adjust(hspace=0.5)\n",
    "pos_1 = ax[1].get_position()\n",
    "pos_0 = ax[0].get_position()\n",
    "pos_1_w = pos_1.x1 - pos_1.x0\n",
    "pos_1.x0=pos_0.x0+0.17\n",
    "pos_1.x1 = pos_1.x0 + pos_1_w\n",
    "\n",
    "ax[1].set_position(pos_1)\n",
    "\n",
    "\n",
    "pos_3 = ax[3].get_position()\n",
    "pos_2 = ax[2].get_position()\n",
    "#Also want to move ax2 a little to the left. \n",
    "pos_2.x0 = pos_2.x0-0.02\n",
    "pos_2.x1 = pos_2.x1-0.02\n",
    "ax[2].set_position(pos_2)\n",
    "\n",
    "pos_3_w = pos_3.x1 - pos_3.x0\n",
    "pos_3.x0=pos_2.x0+0.17\n",
    "pos_3.x1 = pos_3.x0 + pos_3_w\n",
    "ax[3].set_position(pos_3)\n",
    "\n",
    "vmax=1\n",
    "\n",
    "ax[0].pcolormesh(macs_2K_3p7,vmin=0,vmax=vmax,cmap='Spectral_r',rasterized=True)\n",
    "ax[1].pcolormesh(macs_55K_3p7,vmin=0,vmax=vmax,cmap='Spectral_r',rasterized=True)\n",
    "ax[2].pcolormesh(macs_2K_5,vmin=0,vmax=vmax,cmap='Spectral_r',rasterized=True)\n",
    "mesh = ax[3].pcolormesh(macs_55K_5,vmin=0,vmax=vmax,cmap='Spectral_r',rasterized=True)\n",
    "\n",
    "ax[1].set_ylabel('')\n",
    "ax[3].set_ylabel('')\n",
    "ax[0].set_ylabel('$\\hbar\\omega$ (meV)')\n",
    "ax[2].set_ylabel('')\n",
    "ax[0].set_xlabel('$Q$ ($\\AA^{-1}$)')\n",
    "ax[1].set_xlabel('$Q$ ($\\AA^{-1}$)')\n",
    "ax[2].set_xlabel('$Q$ ($\\AA^{-1}$)')\n",
    "ax[3].set_xlabel('$Q$ ($\\AA^{-1}$)')\n",
    "\n",
    "ax[1].set_yticklabels([])\n",
    "ax[3].set_yticklabels([])\n",
    "\n",
    "ax[0].set_xlim(0,2.5)\n",
    "ax[1].set_xlim(0,2.5)\n",
    "ax[2].set_xlim(0,2.5)\n",
    "ax[3].set_xlim(0,2.5)\n",
    "\n",
    "txta = ax[0].text(0.1,0.9,'(a)',transform=ax[0].transAxes,horizontalalignment='left',\\\n",
    "            verticalalignment='top')\n",
    "txtb = ax[1].text(0.1,0.9,'(b)',transform=ax[1].transAxes,horizontalalignment='left',\\\n",
    "            verticalalignment='top')\n",
    "txtc = ax[2].text(0.1,0.9,'(c)',transform=ax[2].transAxes,horizontalalignment='left',\\\n",
    "            verticalalignment='top')\n",
    "txtd = ax[3].text(0.1,0.9,'(d)',transform=ax[3].transAxes,horizontalalignment='left',\\\n",
    "            verticalalignment='top')\n",
    "for txt in [txta,txtb,txtc,txtd]:\n",
    "    txt.set_path_effects([PathEffects.withStroke(linewidth=2,foreground='w')])\n",
    "#Add a colorbar\n",
    "l,b,w,h=ax[3].get_position().bounds\n",
    "cax = fig.add_axes([l+w+0.0125,b+0.0,0.015,0.75])\n",
    "labelstr='I($Q,\\omega$) (b/eV/sr/mol$\\cdot$Ir)'\n",
    "cbar = plt.colorbar(mesh,orientation='vertical',cax=cax,label=labelstr)\n",
    "cax.yaxis.set_major_formatter(matplotlib.ticker.FormatStrFormatter(\"%.2f\"))\n",
    "\n",
    "#Fix the x-axis tick labels\n",
    "for i in range(4):\n",
    "    axtest = ax[i]\n",
    "    axtest.set_xticks([0,1,2])\n",
    "    axtest.xaxis.set_major_locator(matplotlib.ticker.MultipleLocator(1))\n",
    "    axtest.xaxis.set_minor_locator(matplotlib.ticker.MultipleLocator(0.5))\n",
    "fig.savefig('HLIO_macs_I_summary_dissertation.pdf',bbox_inches='tight',dpi=300)\n",
    "fig.show()"
   ]
  },
  {
   "cell_type": "code",
   "execution_count": null,
   "id": "1086425d",
   "metadata": {},
   "outputs": [],
   "source": []
  }
 ],
 "metadata": {
  "kernelspec": {
   "display_name": "Python 3",
   "language": "python",
   "name": "python3"
  },
  "language_info": {
   "codemirror_mode": {
    "name": "ipython",
    "version": 3
   },
   "file_extension": ".py",
   "mimetype": "text/x-python",
   "name": "python",
   "nbconvert_exporter": "python",
   "pygments_lexer": "ipython3",
   "version": "3.6.13"
  }
 },
 "nbformat": 4,
 "nbformat_minor": 5
}
