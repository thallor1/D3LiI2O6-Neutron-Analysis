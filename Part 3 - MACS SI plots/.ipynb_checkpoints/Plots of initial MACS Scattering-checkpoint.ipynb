{
 "cells": [
  {
   "cell_type": "markdown",
   "id": "553aa460",
   "metadata": {},
   "source": [
    "## This notebook is for the plotting of MACS D$_3$LiIr$_2$O$_6$ data before removal of phonon and elastic backgrounds. \n",
    "\n",
    "Annular absorption and normalization are handeled previously"
   ]
  },
  {
   "cell_type": "code",
   "execution_count": 8,
   "id": "e277b08c",
   "metadata": {},
   "outputs": [
    {
     "name": "stdout",
     "output_type": "stream",
     "text": [
      "../MDHisto_files/\n"
     ]
    }
   ],
   "source": [
    "import sys\n",
    "import os \n",
    "sys.path.append(\"../python scripts/\")\n",
    "\n",
    "import numpy as np \n",
    "import matplotlib.pyplot as plt\n",
    "from mantid.simpleapi import *\n",
    "import matplotlib\n",
    "import matplotlib.patheffects as PathEffects\n",
    "import MDUtils as mdu\n",
    "from mdtoiexy import make_MD_from_iexy\n",
    "\n",
    "plt.rcParams['xtick.direction']='in'\n",
    "plt.rcParams['ytick.direction']='in'\n",
    "plt.rcParams['xtick.minor.visible']=True\n",
    "plt.rcParams['ytick.minor.visible']=True\n",
    "plt.rcParams['xtick.top']=True\n",
    "plt.rcParams['ytick.right']=True\n",
    "plt.rcParams['font.size']=10\n",
    "plt.rcParams['xtick.labelsize']=10\n",
    "plt.rcParams['ytick.labelsize']=10\n",
    "plt.rcParams['text.usetex']=False\n",
    "plt.rcParams['font.family']='serif'\n",
    "\n",
    "\n",
    "def mask_zeros_md(md):\n",
    "    I = np.copy(md.getSignalArray())\n",
    "    I[I==0]=np.nan\n",
    "    md.setSignalArray(I)\n",
    "\n",
    "cwd = os.getcwd()\n",
    "#Import files\n",
    "macs_2K_3p7_fname = cwd+'/macs_iexy/2K_EmptySubtracted_Ei3p7_MACS.iexy'\n",
    "macs_2K_5_fname = cwd+'/macs_iexy/2K_EmptySubtracted_MACS.iexy'\n",
    "macs_55K_3p7_fname = cwd+'/macs_iexy/55K_EmptySubtracted_Ei3p7_MACS.iexy'\n",
    "macs_55K_5_fname = cwd+'/macs_iexy/55K_EmptySubtracted_MACS.iexy'\n",
    "\n",
    "#Below factors are in a different notebook, originate from elastic bragg peaks\n",
    "scale_factor_5p0=3.12e-2\n",
    "scale_factor_3p7=5.96e-2\n",
    "\n",
    "#Import the iexy files as MDHistoworkspaces\n",
    "macs_2K_3p7 =  make_MD_from_iexy(macs_2K_3p7_fname,Ei=3.7).clone()\n",
    "macs_2K_5 =  make_MD_from_iexy(macs_2K_5_fname,Ei=13.7).clone()\n",
    "\n",
    "macs_55K_3p7 = make_MD_from_iexy(macs_55K_3p7_fname,Ei=3.7).clone()\n",
    "macs_55K_5 = make_MD_from_iexy(macs_55K_5_fname,Ei=13.7).clone()\n",
    "\n",
    "macs_55K_5 *=scale_factor_5p0\n",
    "macs_2K_5 *=scale_factor_5p0\n",
    "macs_55K_3p7*=scale_factor_3p7 \n",
    "macs_2K_3p7 *=scale_factor_3p7 \n",
    "\n",
    "fnames = ['macs_3p7_55K.nxs','macs_3p7_2K.nxs','macs_5p0_55K.nxs','macs_5p0_2K.nxs']\n",
    "savedir = '../MDHisto_files/'\n",
    "print(savedir)\n",
    "for i,md in enumerate([macs_55K_5,macs_2K_5,macs_55K_3p7,macs_2K_3p7]):\n",
    "    mask_zeros_md(md)\n",
    "    #Save each in an nxs file for later notebooks.\n",
    "    SaveMD(md,savedir+fnames[i])"
   ]
  },
  {
   "cell_type": "markdown",
   "id": "8a1659b0",
   "metadata": {},
   "source": [
    "## First make plots showing each measurement. "
   ]
  },
  {
   "cell_type": "code",
   "execution_count": 5,
   "id": "5d0a449d",
   "metadata": {},
   "outputs": [
    {
     "data": {
      "image/png": "[encoded data removed]",
      "text/plain": [
       "<Figure size 254.88x288 with 5 Axes>"
      ]
     },
     "metadata": {
      "needs_background": "light"
     },
     "output_type": "display_data"
    }
   ],
   "source": [
    "fig,ax = plt.subplots(2,2,figsize=(3.54,4),subplot_kw={'projection':'mantid'})\n",
    "ax[0,0].pcolormesh(macs_2K_3p7,vmin=0,vmax=1,cmap='Spectral_r',rasterized=True)\n",
    "ax[0,1].pcolormesh(macs_55K_3p7,vmin=0,vmax=1,cmap='Spectral_r',rasterized=True)\n",
    "ax[1,0].pcolormesh(macs_2K_5,vmin=0,vmax=1,cmap='Spectral_r',rasterized=True)\n",
    "mesh = ax[1,1].pcolormesh(macs_55K_5,vmin=0,vmax=1,cmap='Spectral_r',rasterized=True)\n",
    "\n",
    "ax[0,1].set_ylabel('')\n",
    "ax[1,1].set_ylabel('')\n",
    "ax[0,0].set_ylabel('$\\hbar\\omega$ (meV)')\n",
    "ax[1,0].set_ylabel('$\\hbar\\omega$ (meV)')\n",
    "ax[1,0].set_xlabel('$Q$ ($\\AA^{-1}$)')\n",
    "ax[1,1].set_xlabel('$Q$ ($\\AA^{-1}$)')\n",
    "ax[0,0].set_xlabel('')\n",
    "ax[0,1].set_xlabel('')\n",
    "ax[0,1].set_yticklabels([])\n",
    "ax[1,1].set_yticklabels([])\n",
    "txta = ax[0,0].text(0.1,0.9,'(a)',transform=ax[0,0].transAxes,horizontalalignment='left',\\\n",
    "            verticalalignment='top')\n",
    "txtb = ax[0,1].text(0.1,0.9,'(b)',transform=ax[0,1].transAxes,horizontalalignment='left',\\\n",
    "            verticalalignment='top')\n",
    "txtc = ax[1,0].text(0.1,0.9,'(c)',transform=ax[1,0].transAxes,horizontalalignment='left',\\\n",
    "            verticalalignment='top')\n",
    "txtd = ax[1,1].text(0.1,0.9,'(d)',transform=ax[1,1].transAxes,horizontalalignment='left',\\\n",
    "            verticalalignment='top')\n",
    "for txt in [txta,txtb,txtc,txtd]:\n",
    "    txt.set_path_effects([PathEffects.withStroke(linewidth=2,foreground='w')])\n",
    "#Add a colorbar\n",
    "l,b,w,h=ax[0,0].get_position().bounds\n",
    "cax = fig.add_axes([l+0.0125,b+0.5,0.75,0.02])\n",
    "labelstr='I($Q,\\omega$) (b/eV/sr/mol$\\cdot$Ir)'\n",
    "cbar = plt.colorbar(mesh,orientation='horizontal',cax=cax,label=labelstr)\n",
    "cax.yaxis.set_major_formatter(matplotlib.ticker.FormatStrFormatter(\"%.2f\"))\n",
    "fig.savefig('HLIO_macs_I_summary.pdf',bbox_inches='tight',dpi=300)"
   ]
  },
  {
   "cell_type": "markdown",
   "id": "284377c1",
   "metadata": {},
   "source": []
  },
  {
   "cell_type": "code",
   "execution_count": 6,
   "id": "6c0e4043",
   "metadata": {},
   "outputs": [
    {
     "name": "stdout",
     "output_type": "stream",
     "text": [
      "[ 0.03366476  0.55426633  1.0748679   1.59546947  2.11607105  2.63667262\n",
      "  3.15727419  3.67787576  4.19847733  4.7190789   5.23968047  5.76028204\n",
      "  6.28088361  6.80148518  7.32208675  7.84268832  8.36328989  8.88389146\n",
      "  9.40449303  9.9250946  10.44569618 10.96629775]\n"
     ]
    }
   ],
   "source": [
    "dims = macs_2K_5.getNonIntegratedDimensions()\n",
    "e = mdu.dim2array(dims[1])\n",
    "print(e)"
   ]
  },
  {
   "cell_type": "code",
   "execution_count": null,
   "id": "56b7fc42",
   "metadata": {},
   "outputs": [],
   "source": []
  }
 ],
 "metadata": {
  "kernelspec": {
   "display_name": "Python 3",
   "language": "python",
   "name": "python3"
  },
  "language_info": {
   "codemirror_mode": {
    "name": "ipython",
    "version": 3
   },
   "file_extension": ".py",
   "mimetype": "text/x-python",
   "name": "python",
   "nbconvert_exporter": "python",
   "pygments_lexer": "ipython3",
   "version": "3.6.9"
  }
 },
 "nbformat": 4,
 "nbformat_minor": 5
}
